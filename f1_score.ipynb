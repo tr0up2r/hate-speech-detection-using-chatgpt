{
 "cells": [
  {
   "cell_type": "code",
   "execution_count": 21,
   "id": "7894d5a7",
   "metadata": {},
   "outputs": [],
   "source": [
    "import pandas as pd\n",
    "from sklearn.metrics import f1_score"
   ]
  },
  {
   "cell_type": "code",
   "execution_count": 5,
   "id": "85cc162e",
   "metadata": {},
   "outputs": [],
   "source": [
    "# read csv\n",
    "df = pd.read_csv(\"../hate-speech-detection-using-chatgpt/csv/labeled_data_and_prediction.csv\")"
   ]
  },
  {
   "cell_type": "code",
   "execution_count": 15,
   "id": "25102d40",
   "metadata": {},
   "outputs": [],
   "source": [
    "df.columns = ['label', 'prediction', 'tweet']"
   ]
  },
  {
   "cell_type": "code",
   "execution_count": 16,
   "id": "fe593a43",
   "metadata": {},
   "outputs": [
    {
     "data": {
      "text/html": [
       "<div>\n",
       "<style scoped>\n",
       "    .dataframe tbody tr th:only-of-type {\n",
       "        vertical-align: middle;\n",
       "    }\n",
       "\n",
       "    .dataframe tbody tr th {\n",
       "        vertical-align: top;\n",
       "    }\n",
       "\n",
       "    .dataframe thead th {\n",
       "        text-align: right;\n",
       "    }\n",
       "</style>\n",
       "<table border=\"1\" class=\"dataframe\">\n",
       "  <thead>\n",
       "    <tr style=\"text-align: right;\">\n",
       "      <th></th>\n",
       "      <th>label</th>\n",
       "      <th>prediction</th>\n",
       "      <th>tweet</th>\n",
       "    </tr>\n",
       "  </thead>\n",
       "  <tbody>\n",
       "    <tr>\n",
       "      <th>0</th>\n",
       "      <td>1</td>\n",
       "      <td>2</td>\n",
       "      <td>\"I used to dress up like a cop too.\" \"Oh reall...</td>\n",
       "    </tr>\n",
       "    <tr>\n",
       "      <th>1</th>\n",
       "      <td>0</td>\n",
       "      <td>2</td>\n",
       "      <td>RT : Stop stalkin your girl social media u bit...</td>\n",
       "    </tr>\n",
       "    <tr>\n",
       "      <th>2</th>\n",
       "      <td>2</td>\n",
       "      <td>2</td>\n",
       "      <td>. Thank you, Dawn. I see our state bird graces...</td>\n",
       "    </tr>\n",
       "    <tr>\n",
       "      <th>3</th>\n",
       "      <td>1</td>\n",
       "      <td>1</td>\n",
       "      <td>ay nigguh so when ya coming back</td>\n",
       "    </tr>\n",
       "    <tr>\n",
       "      <th>4</th>\n",
       "      <td>1</td>\n",
       "      <td>2</td>\n",
       "      <td>no bitch I did not want to wear makeup</td>\n",
       "    </tr>\n",
       "    <tr>\n",
       "      <th>...</th>\n",
       "      <td>...</td>\n",
       "      <td>...</td>\n",
       "      <td>...</td>\n",
       "    </tr>\n",
       "    <tr>\n",
       "      <th>24778</th>\n",
       "      <td>0</td>\n",
       "      <td>1</td>\n",
       "      <td>RT : Never go full retard</td>\n",
       "    </tr>\n",
       "    <tr>\n",
       "      <th>24779</th>\n",
       "      <td>1</td>\n",
       "      <td>0</td>\n",
       "      <td>RT : Hate when bitches be havin that big gap i...</td>\n",
       "    </tr>\n",
       "    <tr>\n",
       "      <th>24780</th>\n",
       "      <td>1</td>\n",
       "      <td>1</td>\n",
       "      <td>RT : Some of you hoes so basic I have to break...</td>\n",
       "    </tr>\n",
       "    <tr>\n",
       "      <th>24781</th>\n",
       "      <td>1</td>\n",
       "      <td>1</td>\n",
       "      <td>lmao yesterday ? Them hoes was cute af lol</td>\n",
       "    </tr>\n",
       "    <tr>\n",
       "      <th>24782</th>\n",
       "      <td>1</td>\n",
       "      <td>1</td>\n",
       "      <td>Dumb ass bitch i swear</td>\n",
       "    </tr>\n",
       "  </tbody>\n",
       "</table>\n",
       "<p>24783 rows × 3 columns</p>\n",
       "</div>"
      ],
      "text/plain": [
       "       label  prediction                                              tweet\n",
       "0          1           2  \"I used to dress up like a cop too.\" \"Oh reall...\n",
       "1          0           2  RT : Stop stalkin your girl social media u bit...\n",
       "2          2           2  . Thank you, Dawn. I see our state bird graces...\n",
       "3          1           1                   ay nigguh so when ya coming back\n",
       "4          1           2             no bitch I did not want to wear makeup\n",
       "...      ...         ...                                                ...\n",
       "24778      0           1                          RT : Never go full retard\n",
       "24779      1           0  RT : Hate when bitches be havin that big gap i...\n",
       "24780      1           1  RT : Some of you hoes so basic I have to break...\n",
       "24781      1           1         lmao yesterday ? Them hoes was cute af lol\n",
       "24782      1           1                             Dumb ass bitch i swear\n",
       "\n",
       "[24783 rows x 3 columns]"
      ]
     },
     "execution_count": 16,
     "metadata": {},
     "output_type": "execute_result"
    }
   ],
   "source": [
    "df"
   ]
  },
  {
   "cell_type": "code",
   "execution_count": 20,
   "id": "8812bca5",
   "metadata": {},
   "outputs": [],
   "source": [
    "labels = list(df.label.values)\n",
    "preds = list(df.prediction.values)"
   ]
  },
  {
   "cell_type": "code",
   "execution_count": 22,
   "id": "271ba86d",
   "metadata": {},
   "outputs": [],
   "source": [
    "def f1_score_func(preds, labels):\n",
    "    return f1_score(labels, preds, average='macro'), f1_score(labels, preds, average='micro')"
   ]
  },
  {
   "cell_type": "code",
   "execution_count": 23,
   "id": "451dc379",
   "metadata": {},
   "outputs": [
    {
     "name": "stdout",
     "output_type": "stream",
     "text": [
      "(0.3622754737245337, 0.47855384739539203)\n"
     ]
    }
   ],
   "source": [
    "print(f1_score_func(preds, labels))"
   ]
  },
  {
   "cell_type": "code",
   "execution_count": null,
   "id": "a82b23e4",
   "metadata": {},
   "outputs": [],
   "source": []
  }
 ],
 "metadata": {
  "kernelspec": {
   "display_name": "Python 3 (ipykernel)",
   "language": "python",
   "name": "python3"
  },
  "language_info": {
   "codemirror_mode": {
    "name": "ipython",
    "version": 3
   },
   "file_extension": ".py",
   "mimetype": "text/x-python",
   "name": "python",
   "nbconvert_exporter": "python",
   "pygments_lexer": "ipython3",
   "version": "3.8.10"
  }
 },
 "nbformat": 4,
 "nbformat_minor": 5
}
