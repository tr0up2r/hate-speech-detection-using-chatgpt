{
 "cells": [
  {
   "cell_type": "code",
   "execution_count": 21,
   "id": "3637949f",
   "metadata": {},
   "outputs": [],
   "source": [
    "import pandas as pd\n",
    "import csv\n",
    "import json"
   ]
  },
  {
   "cell_type": "code",
   "execution_count": 22,
   "id": "0c45538d",
   "metadata": {},
   "outputs": [],
   "source": [
    "# read csv\n",
    "df = pd.read_csv(\"../hate-speech-detection-using-chatgpt/csv/labeled_data_preprocessed_without_url.csv\")\n",
    "\n",
    "labels = [0, 1, 2]\n",
    "columns = df.columns"
   ]
  },
  {
   "cell_type": "code",
   "execution_count": 23,
   "id": "c9e2dcd3",
   "metadata": {},
   "outputs": [],
   "source": [
    "sample_df = pd.DataFrame([], columns=columns)"
   ]
  },
  {
   "cell_type": "code",
   "execution_count": 24,
   "id": "1c313116",
   "metadata": {},
   "outputs": [],
   "source": [
    "for label in labels:\n",
    "    tmp = df[df['class'] == label]\n",
    "    tmp_sampled = tmp.sample(frac=1).iloc[:100]\n",
    "    sample_df = pd.concat([sample_df, tmp_sampled])"
   ]
  },
  {
   "cell_type": "code",
   "execution_count": 25,
   "id": "df4e9816",
   "metadata": {},
   "outputs": [],
   "source": [
    "sample_df.loc[sample_df['class'] == 0, 'class'] = 'hate'\n",
    "sample_df.loc[sample_df['class'] == 1, 'class'] = 'offensive'\n",
    "sample_df.loc[sample_df['class'] == 2, 'class'] = 'neutral'"
   ]
  },
  {
   "cell_type": "code",
   "execution_count": 26,
   "id": "7f1adb6b",
   "metadata": {},
   "outputs": [],
   "source": [
    "sample_df = sample_df.sample(frac=1)"
   ]
  },
  {
   "cell_type": "code",
   "execution_count": 27,
   "id": "b3349dc1",
   "metadata": {},
   "outputs": [],
   "source": [
    "json_data = []\n",
    "for i in range(len(sample_df)):\n",
    "    json_data.append({\"prompt\": f\"{sample_df.iloc[i]['tweet']}\", \"completion\": sample_df.iloc[i]['class']})"
   ]
  },
  {
   "cell_type": "code",
   "execution_count": 28,
   "id": "8510807b",
   "metadata": {},
   "outputs": [],
   "source": [
    "with open(\"../hate-speech-detection-using-chatgpt/csv/hate_speech_for_fine_tuning_without_url.jsonl\" , encoding= \"utf-8\",mode=\"w\") as file: \n",
    "    for i in json_data:\n",
    "        file.write(json.dumps(i) + \"\\n\")"
   ]
  },
  {
   "cell_type": "code",
   "execution_count": null,
   "id": "cd463bf4",
   "metadata": {},
   "outputs": [],
   "source": []
  }
 ],
 "metadata": {
  "kernelspec": {
   "display_name": "Python 3 (ipykernel)",
   "language": "python",
   "name": "python3"
  },
  "language_info": {
   "codemirror_mode": {
    "name": "ipython",
    "version": 3
   },
   "file_extension": ".py",
   "mimetype": "text/x-python",
   "name": "python",
   "nbconvert_exporter": "python",
   "pygments_lexer": "ipython3",
   "version": "3.8.10"
  }
 },
 "nbformat": 4,
 "nbformat_minor": 5
}
