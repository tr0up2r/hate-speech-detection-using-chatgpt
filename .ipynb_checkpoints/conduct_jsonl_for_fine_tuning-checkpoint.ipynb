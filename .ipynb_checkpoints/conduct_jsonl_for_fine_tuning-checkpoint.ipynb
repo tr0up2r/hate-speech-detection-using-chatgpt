{
 "cells": [
  {
   "cell_type": "code",
   "execution_count": 1,
   "id": "3637949f",
   "metadata": {},
   "outputs": [],
   "source": [
    "import pandas as pd\n",
    "import csv\n",
    "import json"
   ]
  },
  {
   "cell_type": "code",
   "execution_count": 2,
   "id": "0c45538d",
   "metadata": {},
   "outputs": [],
   "source": [
    "# read csv\n",
    "df = pd.read_csv(\"../hate-speech-detection-using-chatgpt/csv/labeled_data_preprocessed.csv\")\n",
    "\n",
    "labels = [0, 1, 2]\n",
    "columns = df.columns"
   ]
  },
  {
   "cell_type": "code",
   "execution_count": 3,
   "id": "c9e2dcd3",
   "metadata": {},
   "outputs": [],
   "source": [
    "sample_df = pd.DataFrame([], columns=columns)"
   ]
  },
  {
   "cell_type": "code",
   "execution_count": 4,
   "id": "1c313116",
   "metadata": {},
   "outputs": [],
   "source": [
    "for label in labels:\n",
    "    tmp = df[df['class'] == label]\n",
    "    tmp_sampled = tmp.sample(frac=1).iloc[:10]\n",
    "    sample_df = pd.concat([sample_df, tmp_sampled])"
   ]
  },
  {
   "cell_type": "code",
   "execution_count": 5,
   "id": "df4e9816",
   "metadata": {},
   "outputs": [],
   "source": [
    "sample_df.loc[sample_df['class'] == 0, 'class'] = 'HATE'\n",
    "sample_df.loc[sample_df['class'] == 1, 'class'] = 'OFFENSIVE'\n",
    "sample_df.loc[sample_df['class'] == 2, 'class'] = 'NEUTRAL'"
   ]
  },
  {
   "cell_type": "code",
   "execution_count": 6,
   "id": "7f1adb6b",
   "metadata": {},
   "outputs": [],
   "source": [
    "sample_df = sample_df.sample(frac=1)"
   ]
  },
  {
   "cell_type": "code",
   "execution_count": 8,
   "id": "410c389b",
   "metadata": {},
   "outputs": [],
   "source": [
    "prompt_message = \"Analyze the following text from twitter and determine if the text is: hate speech, offensive language or none of both. Consdering the context of the ENTIRE text, return only a single word, either HATE, OFFENSIVE or NEUTRAL respectively:\\n\""
   ]
  },
  {
   "cell_type": "code",
   "execution_count": 9,
   "id": "28b37bf1",
   "metadata": {},
   "outputs": [],
   "source": [
    "json_data = []\n",
    "for i in range(len(sample_df)):\n",
    "    json_data.append({\"prompt\": f\"{prompt_message}{sample_df.iloc[i]['tweet']}\", \"completion\": sample_df.iloc[i]['class']})"
   ]
  },
  {
   "cell_type": "code",
   "execution_count": 10,
   "id": "8510807b",
   "metadata": {},
   "outputs": [],
   "source": [
    "with open(\"../hate-speech-detection-using-chatgpt/csv/hate_speech_for_fine_tuning.jsonl\" , encoding= \"utf-8\",mode=\"w\") as file: \n",
    "    for i in json_data:\n",
    "        file.write(json.dumps(i) + \"\\n\")"
   ]
  }
 ],
 "metadata": {
  "kernelspec": {
   "display_name": "Python 3 (ipykernel)",
   "language": "python",
   "name": "python3"
  },
  "language_info": {
   "codemirror_mode": {
    "name": "ipython",
    "version": 3
   },
   "file_extension": ".py",
   "mimetype": "text/x-python",
   "name": "python",
   "nbconvert_exporter": "python",
   "pygments_lexer": "ipython3",
   "version": "3.8.10"
  }
 },
 "nbformat": 4,
 "nbformat_minor": 5
}
