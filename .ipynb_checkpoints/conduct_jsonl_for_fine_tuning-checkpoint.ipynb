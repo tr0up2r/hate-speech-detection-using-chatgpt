{
 "cells": [
  {
   "cell_type": "code",
   "execution_count": 29,
   "id": "3637949f",
   "metadata": {},
   "outputs": [],
   "source": [
    "import pandas as pd\n",
    "import csv\n",
    "import json\n",
    "from sklearn.model_selection import train_test_split"
   ]
  },
  {
   "cell_type": "code",
   "execution_count": 46,
   "id": "0c45538d",
   "metadata": {},
   "outputs": [],
   "source": [
    "# read csv\n",
    "df = pd.read_csv(\"../hate-speech-detection-using-chatgpt/csv/labeled_data_preprocessed_without_url.csv\")\n",
    "\n",
    "labels = [0, 1, 2]\n",
    "columns = df.columns"
   ]
  },
  {
   "cell_type": "markdown",
   "id": "168e288b",
   "metadata": {},
   "source": [
    "# train-test split (7:3)"
   ]
  },
  {
   "cell_type": "code",
   "execution_count": 47,
   "id": "80d0f763",
   "metadata": {},
   "outputs": [],
   "source": [
    "idx_train, idx_test = train_test_split(df.index.values, test_size=0.30, random_state=624)\n",
    "train_df = df.iloc[idx_train]\n",
    "test_df = df.iloc[idx_test]"
   ]
  },
  {
   "cell_type": "code",
   "execution_count": 57,
   "id": "a93a49b5",
   "metadata": {},
   "outputs": [],
   "source": [
    "test_df.to_csv(\"../hate-speech-detection-using-chatgpt/csv/labeled_data_preprocessed_without_url_test.csv\", index=False)"
   ]
  },
  {
   "cell_type": "markdown",
   "id": "d6213a73",
   "metadata": {},
   "source": [
    "# just split"
   ]
  },
  {
   "cell_type": "code",
   "execution_count": 48,
   "id": "c9e2dcd3",
   "metadata": {},
   "outputs": [],
   "source": [
    "train_sample_df = pd.DataFrame([], columns=columns)"
   ]
  },
  {
   "cell_type": "code",
   "execution_count": 49,
   "id": "1c313116",
   "metadata": {},
   "outputs": [],
   "source": [
    "for label in labels:\n",
    "    tmp = train_df[train_df['class'] == label]\n",
    "    tmp_sampled = tmp.sample(frac=1).iloc[:100]\n",
    "    train_sample_df = pd.concat([train_sample_df, tmp_sampled])"
   ]
  },
  {
   "cell_type": "code",
   "execution_count": 51,
   "id": "df4e9816",
   "metadata": {},
   "outputs": [],
   "source": [
    "train_sample_df.loc[train_sample_df['class'] == 0, 'class'] = 'hate'\n",
    "train_sample_df.loc[train_sample_df['class'] == 1, 'class'] = 'offensive'\n",
    "train_sample_df.loc[train_sample_df['class'] == 2, 'class'] = 'neutral'"
   ]
  },
  {
   "cell_type": "code",
   "execution_count": 52,
   "id": "7f1adb6b",
   "metadata": {},
   "outputs": [],
   "source": [
    "train_sample_df = train_sample_df.sample(frac=1)"
   ]
  },
  {
   "cell_type": "code",
   "execution_count": 54,
   "id": "b3349dc1",
   "metadata": {},
   "outputs": [],
   "source": [
    "json_data = []\n",
    "for i in range(len(train_sample_df)):\n",
    "    json_data.append({\"prompt\": f\"{train_sample_df.iloc[i]['tweet']}\", \"completion\": train_sample_df.iloc[i]['class']})"
   ]
  },
  {
   "cell_type": "code",
   "execution_count": 55,
   "id": "8510807b",
   "metadata": {},
   "outputs": [],
   "source": [
    "with open(\"../hate-speech-detection-using-chatgpt/csv/hate_speech_for_fine_tuning_without_url_train.jsonl\" , encoding= \"utf-8\",mode=\"w\") as file: \n",
    "    for i in json_data:\n",
    "        file.write(json.dumps(i) + \"\\n\")"
   ]
  },
  {
   "cell_type": "markdown",
   "id": "2abaaf4e",
   "metadata": {},
   "source": [
    "# clustering"
   ]
  },
  {
   "cell_type": "code",
   "execution_count": 58,
   "id": "2938b645",
   "metadata": {},
   "outputs": [],
   "source": [
    "import matplotlib.pyplot as plt\n",
    "from sklearn.cluster import KMeans\n",
    "from sklearn.feature_extraction.text import TfidfVectorizer"
   ]
  },
  {
   "cell_type": "code",
   "execution_count": 99,
   "id": "86c58480",
   "metadata": {},
   "outputs": [],
   "source": [
    "train_sample_df = pd.DataFrame([], columns=columns)\n",
    "vect = TfidfVectorizer()  \n",
    "\n",
    "for label in labels:\n",
    "    now_train_df = train_df[train_df['class'] == label]\n",
    "    now_train_df.columns = ['label', 'tweet']\n",
    "    train_label, train_tweet = list(now_train_df.label.values), list(now_train_df.tweet.values)\n",
    "    X = vect.fit_transform(train_tweet)\n",
    "    random_state = 1\n",
    "    clf = KMeans(n_clusters=100, random_state = random_state)\n",
    "    data = clf.fit(X)\n",
    "    \n",
    "    result = []\n",
    "    seen_values = set()\n",
    "    \n",
    "    for label, tweet, cluster in zip(train_label, train_tweet, clf.predict(X)):\n",
    "        if cluster not in seen_values:\n",
    "            result.append([label, tweet])\n",
    "            seen_values.add(cluster)\n",
    "    \n",
    "    cluster_df = pd.DataFrame(result, columns=columns)\n",
    "    train_sample_df = pd.concat([train_sample_df, cluster_df])"
   ]
  },
  {
   "cell_type": "code",
   "execution_count": 101,
   "id": "4a58c3f5",
   "metadata": {},
   "outputs": [],
   "source": [
    "train_sample_df.loc[train_sample_df['class'] == 0, 'class'] = 'hate'\n",
    "train_sample_df.loc[train_sample_df['class'] == 1, 'class'] = 'offensive'\n",
    "train_sample_df.loc[train_sample_df['class'] == 2, 'class'] = 'neutral'"
   ]
  },
  {
   "cell_type": "code",
   "execution_count": 102,
   "id": "b7bf668e",
   "metadata": {},
   "outputs": [],
   "source": [
    "train_sample_df = train_sample_df.sample(frac=1)"
   ]
  },
  {
   "cell_type": "code",
   "execution_count": 95,
   "id": "6acf4a84",
   "metadata": {},
   "outputs": [],
   "source": [
    "json_data = []\n",
    "for i in range(len(sample_df)):\n",
    "    json_data.append({\"prompt\": f\"{train_sample_df.iloc[i]['tweet']}\", \"completion\": train_sample_df.iloc[i]['class']})"
   ]
  },
  {
   "cell_type": "code",
   "execution_count": null,
   "id": "4f981d47",
   "metadata": {},
   "outputs": [],
   "source": [
    "with open(\"../hate-speech-detection-using-chatgpt/csv/hate_speech_for_fine_tuning_without_url_train_clustering.jsonl\" , encoding= \"utf-8\",mode=\"w\") as file: \n",
    "    for i in json_data:\n",
    "        file.write(json.dumps(i) + \"\\n\")"
   ]
  }
 ],
 "metadata": {
  "kernelspec": {
   "display_name": "Python 3 (ipykernel)",
   "language": "python",
   "name": "python3"
  },
  "language_info": {
   "codemirror_mode": {
    "name": "ipython",
    "version": 3
   },
   "file_extension": ".py",
   "mimetype": "text/x-python",
   "name": "python",
   "nbconvert_exporter": "python",
   "pygments_lexer": "ipython3",
   "version": "3.8.10"
  }
 },
 "nbformat": 4,
 "nbformat_minor": 5
}
