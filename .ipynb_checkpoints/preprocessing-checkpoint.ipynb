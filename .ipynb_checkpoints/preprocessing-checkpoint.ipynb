{
 "cells": [
  {
   "cell_type": "code",
   "execution_count": 2,
   "id": "13899115",
   "metadata": {},
   "outputs": [],
   "source": [
    "import pandas as pd\n",
    "import re\n",
    "\n",
    "# csv 파일 불러오기\n",
    "df = pd.read_csv(\"../hate-speech-detection-using-chatgpt/csv/labeled_data_sorted.csv\")\n",
    "\n",
    "# tweet column 전처리\n",
    "df['tweet'] = df['tweet'].apply(lambda x: re.sub(r'@[A-Za-z0-9]+', '', x))"
   ]
  },
  {
   "cell_type": "code",
   "execution_count": 3,
   "id": "cd12c2a3",
   "metadata": {},
   "outputs": [],
   "source": [
    "# 새 csv 파일로 저장\n",
    "df[['class', 'tweet']].to_csv(\"../hate-speech-detection-using-chatgpt/csv/labeled_data.csv\", index=False)"
   ]
  }
 ],
 "metadata": {
  "kernelspec": {
   "display_name": "Python 3 (ipykernel)",
   "language": "python",
   "name": "python3"
  },
  "language_info": {
   "codemirror_mode": {
    "name": "ipython",
    "version": 3
   },
   "file_extension": ".py",
   "mimetype": "text/x-python",
   "name": "python",
   "nbconvert_exporter": "python",
   "pygments_lexer": "ipython3",
   "version": "3.8.10"
  }
 },
 "nbformat": 4,
 "nbformat_minor": 5
}
