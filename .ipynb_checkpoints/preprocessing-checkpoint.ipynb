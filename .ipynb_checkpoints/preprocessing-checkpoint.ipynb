{
 "cells": [
  {
   "cell_type": "code",
   "execution_count": null,
   "id": "db409187",
   "metadata": {},
   "outputs": [],
   "source": [
    "!pip install tweet-preprocessor"
   ]
  },
  {
   "cell_type": "code",
   "execution_count": 13,
   "id": "e8e45c01",
   "metadata": {},
   "outputs": [],
   "source": [
    "import pandas as pd\n",
    "import re\n",
    "import preprocessor as p"
   ]
  },
  {
   "cell_type": "code",
   "execution_count": 14,
   "id": "98ef9ff7",
   "metadata": {},
   "outputs": [],
   "source": [
    "def preprocessing(filename, filetype, outfilename):\n",
    "    if filetype == 'csv':\n",
    "        df = pd.read_csv(filename)\n",
    "    else:  # tsv\n",
    "        df = pd.read_csv(filename, delimiter='\\t')\n",
    "    new_df = df.copy(deep=True)\n",
    "\n",
    "    # set parameters of tweet-preprocessor\n",
    "    p.set_options(p.OPT.EMOJI, p.OPT.MENTION, p.OPT.SMILEY)\n",
    "\n",
    "    new_df['tweet'] = new_df['tweet'].apply(lambda x: p.clean(x))\n",
    "    df['tweet'] = df['tweet'].apply(lambda x: p.clean(x))\n",
    "\n",
    "    p.set_options(p.OPT.URL)\n",
    "    new_df['tweet'] = new_df['tweet'].apply(lambda x: p.clean(x))\n",
    "\n",
    "    # write csv\n",
    "    new_df[df['tweet'] == new_df['tweet']][['class', 'tweet']].to_csv(outfilename, index=False)"
   ]
  },
  {
   "cell_type": "markdown",
   "id": "6fa50bf0",
   "metadata": {},
   "source": [
    "# hate, offensive, neutral data"
   ]
  },
  {
   "cell_type": "code",
   "execution_count": 15,
   "id": "db198192",
   "metadata": {},
   "outputs": [],
   "source": [
    "preprocessing(\"../hate-speech-detection-using-chatgpt/csv/labeled_data_sorted.csv\", 'csv', \"../hate-speech-detection-using-chatgpt/csv/labeled_data_preprocessed_without_url.csv\")"
   ]
  },
  {
   "cell_type": "markdown",
   "id": "db09bb66",
   "metadata": {},
   "source": [
    "# explicit hate, implicit hate, not hate data"
   ]
  },
  {
   "cell_type": "code",
   "execution_count": 16,
   "id": "9c0cb3b3",
   "metadata": {},
   "outputs": [],
   "source": [
    "preprocessing(\"../hate-speech-detection-using-chatgpt/csv/implicit_hate_v1_stg1_posts.tsv\", 'tsv', \"../hate-speech-detection-using-chatgpt/csv/implicit_hate_labeled_data_preprocessed_without_url.csv\")"
   ]
  }
 ],
 "metadata": {
  "kernelspec": {
   "display_name": "Python 3 (ipykernel)",
   "language": "python",
   "name": "python3"
  },
  "language_info": {
   "codemirror_mode": {
    "name": "ipython",
    "version": 3
   },
   "file_extension": ".py",
   "mimetype": "text/x-python",
   "name": "python",
   "nbconvert_exporter": "python",
   "pygments_lexer": "ipython3",
   "version": "3.8.10"
  }
 },
 "nbformat": 4,
 "nbformat_minor": 5
}
