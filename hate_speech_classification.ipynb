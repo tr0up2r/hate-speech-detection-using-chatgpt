{
 "cells": [
  {
   "cell_type": "code",
   "execution_count": 24,
   "id": "815c6186",
   "metadata": {},
   "outputs": [
    {
     "name": "stdout",
     "output_type": "stream",
     "text": [
      "Requirement already satisfied: pandas in /home/mykim/.local/lib/python3.8/site-packages (1.3.1)\n",
      "Requirement already satisfied: openai in /home/mykim/.local/lib/python3.8/site-packages (0.27.6)\n",
      "Requirement already satisfied: requests in /usr/lib/python3/dist-packages (2.22.0)\n",
      "Requirement already satisfied: python-dateutil>=2.7.3 in /usr/local/lib/python3.8/dist-packages (from pandas) (2.8.2)\n",
      "Requirement already satisfied: pytz>=2017.3 in /usr/local/lib/python3.8/dist-packages (from pandas) (2022.6)\n",
      "Requirement already satisfied: numpy>=1.17.3 in /home/mykim/.local/lib/python3.8/site-packages (from pandas) (1.21.2)\n",
      "Requirement already satisfied: tqdm in /home/mykim/.local/lib/python3.8/site-packages (from openai) (4.62.2)\n",
      "Requirement already satisfied: aiohttp in /usr/local/lib/python3.8/dist-packages (from openai) (3.8.3)\n",
      "Requirement already satisfied: six>=1.5 in /usr/local/lib/python3.8/dist-packages (from python-dateutil>=2.7.3->pandas) (1.15.0)\n",
      "Requirement already satisfied: charset-normalizer<3.0,>=2.0 in /usr/local/lib/python3.8/dist-packages (from aiohttp->openai) (2.1.1)\n",
      "Requirement already satisfied: yarl<2.0,>=1.0 in /usr/local/lib/python3.8/dist-packages (from aiohttp->openai) (1.8.2)\n",
      "Requirement already satisfied: frozenlist>=1.1.1 in /usr/local/lib/python3.8/dist-packages (from aiohttp->openai) (1.3.3)\n",
      "Requirement already satisfied: aiosignal>=1.1.2 in /usr/local/lib/python3.8/dist-packages (from aiohttp->openai) (1.3.1)\n",
      "Requirement already satisfied: attrs>=17.3.0 in /usr/lib/python3/dist-packages (from aiohttp->openai) (19.3.0)\n",
      "Requirement already satisfied: multidict<7.0,>=4.5 in /usr/local/lib/python3.8/dist-packages (from aiohttp->openai) (6.0.3)\n",
      "Requirement already satisfied: async-timeout<5.0,>=4.0.0a3 in /usr/local/lib/python3.8/dist-packages (from aiohttp->openai) (4.0.2)\n",
      "Requirement already satisfied: idna>=2.0 in /usr/lib/python3/dist-packages (from yarl<2.0,>=1.0->aiohttp->openai) (2.8)\n",
      "Requirement already satisfied: tqdm in /home/mykim/.local/lib/python3.8/site-packages (4.62.2)\n",
      "Requirement already satisfied: python-docx in /home/mykim/.local/lib/python3.8/site-packages (0.8.11)\n",
      "Requirement already satisfied: lxml>=2.3.2 in /usr/local/lib/python3.8/dist-packages (from python-docx) (4.9.2)\n"
     ]
    }
   ],
   "source": [
    "!pip install pandas openai requests\n",
    "!pip install tqdm\n",
    "!pip install python-docx\n",
    "!pip install backoff"
   ]
  },
  {
   "cell_type": "code",
   "execution_count": 17,
   "id": "be1f1748",
   "metadata": {},
   "outputs": [],
   "source": [
    "import pandas as pd\n",
    "import openai\n",
    "from tqdm import tqdm\n",
    "import time\n",
    "import backoff  # for exponential backoff\n",
    "\n",
    "openai.api_key = \"MY_API_KEY\""
   ]
  },
  {
   "cell_type": "code",
   "execution_count": 12,
   "id": "3e5c2a8a",
   "metadata": {},
   "outputs": [],
   "source": [
    "@backoff.on_exception(backoff.expo, openai.error.RateLimitError)\n",
    "def completions_with_backoff(**kwargs):\n",
    "    return openai.ChatCompletion.create(**kwargs)"
   ]
  },
  {
   "cell_type": "code",
   "execution_count": 13,
   "id": "b65e206e",
   "metadata": {},
   "outputs": [],
   "source": [
    "def analyze_tweet(text):\n",
    "    retries = 1\n",
    "    sentiment = None\n",
    "\n",
    "    while retries > 0:\n",
    "        messages = [\n",
    "            {\"role\": \"system\", \"content\": \"You are an AI language model trained to analyze and detect hate speech.\"},\n",
    "            {\"role\": \"user\", \"content\": f\"Analyze the following text and determine if the text is: hate speech, offensive language or none of both. Return only a single word, either HATE, OFFENSIVE or NEUTRAL respectively:\\n{text}\"}\n",
    "        ]\n",
    "\n",
    "        completion = completions_with_backoff(\n",
    "            model=\"gpt-3.5-turbo\",\n",
    "            messages=messages,\n",
    "            max_tokens=3,\n",
    "            n=1,\n",
    "            stop=None,\n",
    "            temperature=0\n",
    "        )\n",
    "\n",
    "        response_text = completion.choices[0].message.content\n",
    "        if response_text in [\"HATE\", \"OFFENSIVE\", \"NEUTRAL\"]:\n",
    "            result = response_text\n",
    "            break\n",
    "        else:\n",
    "            retries -= 1\n",
    "            time.sleep(0.5)\n",
    "    else:\n",
    "        result = \"neutral\"\n",
    "\n",
    "    retries = 1\n",
    "    time.sleep(0.5)\n",
    "\n",
    "    return result"
   ]
  },
  {
   "cell_type": "code",
   "execution_count": 14,
   "id": "79bd5b4e",
   "metadata": {},
   "outputs": [],
   "source": [
    "input_file = \"../hate-speech-detection-using-chatgpt/csv/labeled_data.csv\"\n",
    "df = pd.read_csv(input_file)\n",
    "df = df.sample(frac=1)\n",
    "df = df.iloc[:100]"
   ]
  },
  {
   "cell_type": "code",
   "execution_count": 15,
   "id": "8a8f6e1d",
   "metadata": {},
   "outputs": [
    {
     "name": "stderr",
     "output_type": "stream",
     "text": [
      "100%|██████████| 100/100 [05:28<00:00,  3.28s/it]\n"
     ]
    }
   ],
   "source": [
    "results = []\n",
    "i = 0\n",
    "\n",
    "with tqdm(total = len(df)) as pbar:\n",
    "    while i < len(df):\n",
    "        result = analyze_tweet(df.tweet.iloc[i])\n",
    "        if result == 'HATE':\n",
    "            result = 0\n",
    "        elif result == 'OFFENSIVE':\n",
    "            result = 1\n",
    "        else:\n",
    "            result = 2\n",
    "        results.append(result)\n",
    "        i += 1\n",
    "        pbar.update(1)"
   ]
  },
  {
   "cell_type": "code",
   "execution_count": 16,
   "id": "5a1dfb5c",
   "metadata": {},
   "outputs": [],
   "source": [
    "column = 'prediction'\n",
    "df.insert(1, column, results)\n",
    "\n",
    "output_file = \"../hate-speech-detection-using-chatgpt/csv/labeled_data_and_prediction.csv\"\n",
    "df.to_csv(output_file, index=False)"
   ]
  }
 ],
 "metadata": {
  "kernelspec": {
   "display_name": "Python 3 (ipykernel)",
   "language": "python",
   "name": "python3"
  },
  "language_info": {
   "codemirror_mode": {
    "name": "ipython",
    "version": 3
   },
   "file_extension": ".py",
   "mimetype": "text/x-python",
   "name": "python",
   "nbconvert_exporter": "python",
   "pygments_lexer": "ipython3",
   "version": "3.8.10"
  }
 },
 "nbformat": 4,
 "nbformat_minor": 5
}
