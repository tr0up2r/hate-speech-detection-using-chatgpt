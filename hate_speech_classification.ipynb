{
 "cells": [
  {
   "cell_type": "code",
   "execution_count": 1,
   "id": "815c6186",
   "metadata": {},
   "outputs": [
    {
     "name": "stdout",
     "output_type": "stream",
     "text": [
      "Requirement already satisfied: pandas in /home/mykim/.local/lib/python3.8/site-packages (1.3.1)\n",
      "Requirement already satisfied: openai in /home/mykim/.local/lib/python3.8/site-packages (0.27.6)\n",
      "Requirement already satisfied: requests in /usr/lib/python3/dist-packages (2.22.0)\n",
      "Requirement already satisfied: pytz>=2017.3 in /usr/local/lib/python3.8/dist-packages (from pandas) (2022.6)\n",
      "Requirement already satisfied: python-dateutil>=2.7.3 in /usr/local/lib/python3.8/dist-packages (from pandas) (2.8.2)\n",
      "Requirement already satisfied: numpy>=1.17.3 in /home/mykim/.local/lib/python3.8/site-packages (from pandas) (1.21.2)\n",
      "Requirement already satisfied: tqdm in /home/mykim/.local/lib/python3.8/site-packages (from openai) (4.62.2)\n",
      "Requirement already satisfied: aiohttp in /usr/local/lib/python3.8/dist-packages (from openai) (3.8.3)\n",
      "Requirement already satisfied: six>=1.5 in /usr/local/lib/python3.8/dist-packages (from python-dateutil>=2.7.3->pandas) (1.15.0)\n",
      "Requirement already satisfied: multidict<7.0,>=4.5 in /usr/local/lib/python3.8/dist-packages (from aiohttp->openai) (6.0.3)\n",
      "Requirement already satisfied: frozenlist>=1.1.1 in /usr/local/lib/python3.8/dist-packages (from aiohttp->openai) (1.3.3)\n",
      "Requirement already satisfied: yarl<2.0,>=1.0 in /usr/local/lib/python3.8/dist-packages (from aiohttp->openai) (1.8.2)\n",
      "Requirement already satisfied: charset-normalizer<3.0,>=2.0 in /usr/local/lib/python3.8/dist-packages (from aiohttp->openai) (2.1.1)\n",
      "Requirement already satisfied: async-timeout<5.0,>=4.0.0a3 in /usr/local/lib/python3.8/dist-packages (from aiohttp->openai) (4.0.2)\n",
      "Requirement already satisfied: aiosignal>=1.1.2 in /usr/local/lib/python3.8/dist-packages (from aiohttp->openai) (1.3.1)\n",
      "Requirement already satisfied: attrs>=17.3.0 in /usr/lib/python3/dist-packages (from aiohttp->openai) (19.3.0)\n",
      "Requirement already satisfied: idna>=2.0 in /usr/lib/python3/dist-packages (from yarl<2.0,>=1.0->aiohttp->openai) (2.8)\n",
      "Requirement already satisfied: tqdm in /home/mykim/.local/lib/python3.8/site-packages (4.62.2)\n",
      "Requirement already satisfied: python-docx in /home/mykim/.local/lib/python3.8/site-packages (0.8.11)\n",
      "Requirement already satisfied: lxml>=2.3.2 in /usr/local/lib/python3.8/dist-packages (from python-docx) (4.9.2)\n"
     ]
    }
   ],
   "source": [
    "!pip install pandas openai requests\n",
    "!pip install tqdm\n",
    "!pip install python-docx"
   ]
  },
  {
   "cell_type": "code",
   "execution_count": 1,
   "id": "be1f1748",
   "metadata": {},
   "outputs": [],
   "source": [
    "import pandas as pd\n",
    "import openai\n",
    "import requests\n",
    "from tqdm import tqdm\n",
    "import time\n",
    "import docx\n",
    "\n",
    "# Enter your OpenAI API private access key here. IMPORTANT - don't share your code online if it contains your access key or anyone will be able to access your openai account\n",
    "openai.api_key = \"MY_API_KEY\""
   ]
  },
  {
   "cell_type": "code",
   "execution_count": 30,
   "id": "b65e206e",
   "metadata": {},
   "outputs": [],
   "source": [
    "def analyze_my_review(text):\n",
    "    retries = 3\n",
    "    sentiment = None\n",
    "\n",
    "    while retries > 0:\n",
    "        messages = [\n",
    "            {\"role\": \"system\", \"content\": \"You are an AI language model trained to analyze and detect hate speech.\"},\n",
    "            {\"role\": \"user\", \"content\": f\"Analyze the following text and determine if the text is: hate speech, offensive language or none of both. Return only a single word, either HATE, OFFENSIVE or NEUTRAL respectively:\\n{text}\"}\n",
    "        ]\n",
    "\n",
    "        completion = openai.ChatCompletion.create(\n",
    "            model=\"gpt-3.5-turbo\",\n",
    "            messages=messages,\n",
    "            # We only want a single word sentiment determination so we limit the results to 3 openAI tokens, which is about 1 word. \n",
    "            # If you set a higher max_tokens amount, openAI will generate a bunch of additional text for each response, which is not what we want it to do\n",
    "            max_tokens=3,\n",
    "            n=1,\n",
    "            stop=None,\n",
    "            temperature=0\n",
    "        )\n",
    "\n",
    "        response_text = completion.choices[0].message.content\n",
    "        # print the sentiment for each customer review, not necessary but it's nice to see the API doing something :)\n",
    "        # print(response_text)\n",
    "\n",
    "        # Sometimes, the API will be overwhelmed or just buggy so we need to check if the response from the API was an error message or one of our allowed sentiment classifications.\n",
    "        # If the API returns something other than POSITIVE, NEGATIVE or NEUTRAL, we will retry that particular review that had a problem up to 3 times. This is usually enough.\n",
    "        if response_text in [\"HATE\", \"OFFENSIVE\", \"NEUTRAL\"]:\n",
    "            result = response_text\n",
    "            break\n",
    "        else:\n",
    "            retries -= 1\n",
    "            time.sleep(0.5)\n",
    "    else:\n",
    "        result = \"neutral\"\n",
    "\n",
    "    retries = 3\n",
    "   \n",
    "    # OpenAI will limit the number of times you can access their API if you have a free account. \n",
    "    # If you are using the openAI free tier, you need to add a delay of a few seconds (i.e. 4 seconds) between API requests to avoid hitting the openai free tier API call rate limit.\n",
    "    # This code will still work with an openAI free tier account but you should limit the number of reviews you want to analyze (<100 at a time) to avoid running into random API problems.\n",
    "\n",
    "    time.sleep(0.5)\n",
    "\n",
    "    return result"
   ]
  },
  {
   "cell_type": "code",
   "execution_count": 31,
   "id": "79bd5b4e",
   "metadata": {},
   "outputs": [],
   "source": [
    "input_file = \"../hate-speech-detection-using-chatgpt/csv/labeled_data.csv\"\n",
    "# Read the input file into a dataframe\n",
    "df = pd.read_csv(input_file)\n",
    "# df = df.sample(frac=1)\n",
    "df = df.iloc[:10]"
   ]
  },
  {
   "cell_type": "code",
   "execution_count": 33,
   "id": "8c002abb",
   "metadata": {},
   "outputs": [
    {
     "name": "stderr",
     "output_type": "stream",
     "text": [
      "100%|██████████| 10/10 [00:13<00:00,  1.39s/it]\n"
     ]
    }
   ],
   "source": [
    "# Analyze each review using ChatGPT and save the results in a list called sentiments so we can access the results later\n",
    "results = []\n",
    "\n",
    "# Here we loop through all of the reviews in our dataset and send them to the openAI API using our custom function from above\n",
    "for review in tqdm(df[\"tweet\"]):\n",
    "    result = analyze_my_review(review)\n",
    "    if result == 'HATE':\n",
    "        result = 0\n",
    "    elif result == 'OFFENSIVE':\n",
    "        result = 1\n",
    "    else:\n",
    "        result = 2\n",
    "    results.append(result)"
   ]
  },
  {
   "cell_type": "code",
   "execution_count": 34,
   "id": "b60f13e7",
   "metadata": {},
   "outputs": [
    {
     "data": {
      "text/plain": [
       "[0, 0, 0, 0, 0, 1, 0, 0, 1, 1]"
      ]
     },
     "execution_count": 34,
     "metadata": {},
     "output_type": "execute_result"
    }
   ],
   "source": [
    "results"
   ]
  },
  {
   "cell_type": "code",
   "execution_count": 35,
   "id": "5a1dfb5c",
   "metadata": {},
   "outputs": [],
   "source": [
    "# Now let's save the openAI API results as an additional column in our original dataset\n",
    "column = 'prediction'\n",
    "df.insert(1, column, results)\n",
    "\n",
    "# Save the results to a new Excel file (not a CSV file this time so it's easier for non-python users to work with)\n",
    "output_file = \"../hate-speech-detection-using-chatgpt/csv/labeled_data_and_prediction.csv\"\n",
    "df.to_csv(output_file, index=False)"
   ]
  }
 ],
 "metadata": {
  "kernelspec": {
   "display_name": "Python 3 (ipykernel)",
   "language": "python",
   "name": "python3"
  },
  "language_info": {
   "codemirror_mode": {
    "name": "ipython",
    "version": 3
   },
   "file_extension": ".py",
   "mimetype": "text/x-python",
   "name": "python",
   "nbconvert_exporter": "python",
   "pygments_lexer": "ipython3",
   "version": "3.8.10"
  }
 },
 "nbformat": 4,
 "nbformat_minor": 5
}
